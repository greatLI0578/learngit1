{
 "cells": [
  {
   "cell_type": "code",
   "execution_count": 4,
   "metadata": {},
   "outputs": [],
   "source": [
    "import numpy as np\n",
    "import pandas as pd\n",
    "import matplotlib.pyplot as plt\n",
    "import re"
   ]
  },
  {
   "cell_type": "code",
   "execution_count": 10,
   "metadata": {},
   "outputs": [],
   "source": [
    "#读入文件数据 传统方法\n",
    "data_raw = open('CDNOW.txt')\n",
    "lines = data_raw.readlines()\n",
    "data = []\n",
    "for line in lines:\n",
    "    data.append(re.split('\\s+', line.strip()))\n",
    "#print(data[-1]) 测试数据处理的完整和准确性"
   ]
  },
  {
   "cell_type": "code",
   "execution_count": 9,
   "metadata": {},
   "outputs": [
    {
     "name": "stdout",
     "output_type": "stream",
     "text": [
      "      id  trade_date  num  total_price\n",
      "0  00001    19970101    1        11.77\n",
      "1  00002    19970112    1        12.00\n",
      "2  00002    19970112    5        77.00\n",
      "3  00003    19970102    2        20.76\n",
      "4  00003    19970330    2        20.76\n"
     ]
    }
   ],
   "source": [
    "#读入文件数据，pandas方法\n",
    "data = pd.read_table('CDNOW.txt', header=None, sep='\\s+', converters={ 0: str})\n",
    "#建立列索引\n",
    "names = ['id', 'trade_date', 'num', 'total_price']\n",
    "data.columns = names\n",
    "print(data.head())"
   ]
  },
  {
   "cell_type": "code",
   "execution_count": null,
   "metadata": {},
   "outputs": [],
   "source": []
  }
 ],
 "metadata": {
  "kernelspec": {
   "display_name": "Python 3",
   "language": "python",
   "name": "python3"
  },
  "language_info": {
   "codemirror_mode": {
    "name": "ipython",
    "version": 3
   },
   "file_extension": ".py",
   "mimetype": "text/x-python",
   "name": "python",
   "nbconvert_exporter": "python",
   "pygments_lexer": "ipython3",
   "version": "3.7.1"
  }
 },
 "nbformat": 4,
 "nbformat_minor": 2
}
